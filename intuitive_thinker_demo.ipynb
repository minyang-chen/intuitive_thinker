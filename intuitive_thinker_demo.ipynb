{
 "cells": [
  {
   "cell_type": "markdown",
   "id": "62436b32-711c-4fc4-9379-1c35fef67d53",
   "metadata": {},
   "source": [
    "# Intuitive Thinker \n",
    "\n",
    "Improve small size LLM reasoning by employs system of thinking mental models by structured Chain-of-Thoughts process and thoughtful reflection prior to responding to user queries."
   ]
  },
  {
   "cell_type": "markdown",
   "id": "31ee2722-fc5e-4973-ab56-615999a1fa31",
   "metadata": {},
   "source": [
    "***Installation***"
   ]
  },
  {
   "cell_type": "raw",
   "id": "032edf0b-6dcd-4a0b-beb1-4857ef8adacf",
   "metadata": {},
   "source": [
    "!git clone"
   ]
  },
  {
   "cell_type": "raw",
   "id": "2ec75e90-38ff-4820-b395-f025479c7d1b",
   "metadata": {},
   "source": [
    "!pip install dist/intuitive_thinker-0.1.0-py3-none-any.whl"
   ]
  },
  {
   "cell_type": "markdown",
   "id": "076c80c4-2224-43ca-bf7b-131a458dfe61",
   "metadata": {},
   "source": [
    "## A. Using Huggingface"
   ]
  },
  {
   "cell_type": "code",
   "execution_count": 2,
   "id": "61b580fd-044e-45af-9918-19a5891f50fb",
   "metadata": {},
   "outputs": [
    {
     "name": "stderr",
     "output_type": "stream",
     "text": [
      "Unused kwargs: ['quant_method']. These kwargs are not used in <class 'transformers.utils.quantization_config.BitsAndBytesConfig'>.\n"
     ]
    },
    {
     "name": "stdout",
     "output_type": "stream",
     "text": [
      "...use thinking_model(chain_of_thoughts,count number of r in word strawberry?)\n",
      "\n"
     ]
    },
    {
     "data": {
      "application/vnd.jupyter.widget-view+json": {
       "model_id": "39b3c6d65549404b9136562aa7fb08eb",
       "version_major": 2,
       "version_minor": 0
      },
      "text/plain": [
       "Loading checkpoint shards:   0%|          | 0/2 [00:00<?, ?it/s]"
      ]
     },
     "metadata": {},
     "output_type": "display_data"
    },
    {
     "name": "stdout",
     "output_type": "stream",
     "text": [
      "Decoded output:\n",
      " <thinking>\n",
      "a. Briefly analyze the question and outline our approach:\n",
      "The question asks for the count of the letter 'r' in the word'strawberry'. This is a simple text analysis task that requires examining the word for the target letter.\n",
      "\n",
      "b. Present a clear plan of steps to solve the problem:\n",
      "1. Write out the word'strawberry' in its full form.\n",
      "2. Count the occurrences of the letter 'r' in the word.\n",
      "3. Provide the final count as the answer.\n",
      "\n",
      "c. Use a \"Chain of Thought\" reasoning process:\n",
      "1. Start by writing out the word: s-t-r-a-w-b-e-r-r-y\n",
      "2. Now, count the 'r's: r (1), r (2), r (3)\n",
      "3. We have found all 'r's in the word.\n",
      "\n",
      "<reflection>\n",
      "a. Review our reasoning:\n",
      "We have broken down the task into simple steps and followed through with the counting process.\n",
      "\n",
      "b. Check for potential errors or oversights:\n",
      "- We have accounted for all letters in the word.\n",
      "- We have specifically targeted the letter 'r' for counting.\n",
      "- We have counted each occurrence of 'r' correctly.\n",
      "\n",
      "c. Confirm our conclusion:\n",
      "Yes, our conclusion is correct. The word'strawberry' contains 3 occurrences of the letter 'r'.\n",
      "\n",
      "</reflection>\n",
      "</thinking>\n",
      "\n",
      "<output>\n",
      "The word'strawberry' contains 3 occurrences of the letter 'r'.\n",
      "</output>\n"
     ]
    }
   ],
   "source": [
    "from intuitive_thinker.mental_model import MentalModel\n",
    "from transformers import AutoModelForCausalLM, AutoTokenizer, BitsAndBytesConfig\n",
    "import torch\n",
    "import json\n",
    "\n",
    "question=\"count number of r in word strawberry?\"\n",
    "\n",
    "## format question using mental model template\n",
    "mental_model = MentalModel(MentalModel.CHAIN_OF_THOUGHTS)\n",
    "prompt = json.loads(mental_model(question))\n",
    "\n",
    "bnb_config = BitsAndBytesConfig(\n",
    "    load_in_4bit=True, bnb_4bit_quant_type=\"nf4\", bnb_4bit_compute_dtype=\"float16\", bnb_4bit_use_double_quant=True\n",
    ")\n",
    "        \n",
    "# Prepare the input as before\n",
    "messages = [\n",
    "    {\"role\": \"system\", \"content\": prompt['system_message']},\n",
    "    {\"role\": \"user\", \"content\": prompt['user_input'] }\n",
    "]\n",
    "\n",
    "hf_model_id = \"mychen76/Llama-3.1_Intuitive-Thinker\"\n",
    "\n",
    "# 1: Load the model and tokenizer\n",
    "model = AutoModelForCausalLM.from_pretrained(hf_model_id, device_map=\"auto\", quantization_config=bnb_config, torch_dtype=torch.bfloat16)\n",
    "tokenizer = AutoTokenizer.from_pretrained(hf_model_id)\n",
    "\n",
    "# 2: Apply the chat template\n",
    "formatted_chat = tokenizer.apply_chat_template(messages, tokenize=False, add_generation_prompt=True)\n",
    "#print(\"Formatted chat:\\n\", formatted_chat)\n",
    "\n",
    "# 3: Tokenize the chat (This can be combined with the previous step using tokenize=True)\n",
    "inputs = tokenizer(formatted_chat, return_tensors=\"pt\", add_special_tokens=False)\n",
    "# Move the tokenized inputs to the same device the model is on (GPU/CPU)\n",
    "inputs = {key: tensor.to(model.device) for key, tensor in inputs.items()}\n",
    "#print(\"Tokenized inputs:\\n\", inputs)\n",
    "\n",
    "# 4: Generate text from the model\n",
    "outputs = model.generate(**inputs, max_new_tokens=512, temperature=0.1)\n",
    "#print(\"Generated tokens:\\n\", outputs)\n",
    "\n",
    "# 5: Decode the output back to a string\n",
    "decoded_output = tokenizer.decode(outputs[0][inputs['input_ids'].size(1):], skip_special_tokens=True)\n",
    "print(\"Decoded output:\\n\", decoded_output)"
   ]
  },
  {
   "cell_type": "code",
   "execution_count": null,
   "id": "c1108700-7f2e-42a0-a200-c8d5b805feeb",
   "metadata": {},
   "outputs": [],
   "source": []
  },
  {
   "cell_type": "markdown",
   "id": "fe30a3fa-8fbf-44b9-aa29-b8cb212552f3",
   "metadata": {},
   "source": [
    "## Using OLLAMA API"
   ]
  },
  {
   "cell_type": "markdown",
   "id": "12d4fbcd-00bf-4f55-8ba2-8fb7950d7ebc",
   "metadata": {},
   "source": [
    "### Ollama-Thinker"
   ]
  },
  {
   "cell_type": "code",
   "execution_count": 6,
   "id": "8923e2ab-bcc8-42c8-82c7-e31d5a6c06eb",
   "metadata": {},
   "outputs": [],
   "source": [
    "from intuitive_thinker.ollama_thinker import OllamaIntuitiveThinker\n",
    "from intuitive_thinker.mental_model import MentalModel\n",
    "import os"
   ]
  },
  {
   "cell_type": "code",
   "execution_count": 7,
   "id": "e654946a-1df3-4714-a154-35cbc2c299ad",
   "metadata": {},
   "outputs": [
    {
     "name": "stdout",
     "output_type": "stream",
     "text": [
      "--------------------------------------------------\n",
      "http://192.168.0.47:11434 ollama mychen76/llama3.1-intuitive-thinker:q5\n",
      "--------------------------------------------------\n"
     ]
    }
   ],
   "source": [
    "### Environment Config\n",
    "\n",
    "ollama_url = os.getenv(\"OLLAMA_URL\")\n",
    "ollama_key = os.getenv(\"OLLAMA_KEY\")\n",
    "ollama_model = os.getenv(\"OLLAMA_MODEL_BASE\")\n",
    "\n",
    "print(10*\"-----\")\n",
    "print(ollama_url, ollama_key, ollama_model)\n",
    "print(10*\"-----\")"
   ]
  },
  {
   "cell_type": "code",
   "execution_count": 8,
   "id": "c9361fe7-1c08-4efc-923f-2659fb4704ff",
   "metadata": {},
   "outputs": [
    {
     "name": "stdout",
     "output_type": "stream",
     "text": [
      "...use thinking_model(chain_of_thoughts,count number of letter r in word strawberry?)\n",
      "\n"
     ]
    },
    {
     "data": {
      "text/html": [
       "<pre style=\"white-space:pre;overflow-x:auto;line-height:normal;font-family:Menlo,'DejaVu Sans Mono',consolas,'Courier New',monospace\">***The model didn't use the function. Its response was:\n",
       "</pre>\n"
      ],
      "text/plain": [
       "***The model didn't use the function. Its response was:\n"
      ]
     },
     "metadata": {},
     "output_type": "display_data"
    },
    {
     "name": "stdout",
     "output_type": "stream",
     "text": [
      "==============================\n",
      "<thinking>\n",
      "The task is to count the number of letter 'r' in the word \"strawberry\".\n",
      "\n",
      "1. Analyze the problem:\n",
      "   - The word given is \"strawberry\".\n",
      "   - We need to count how many times the letter 'r' appears in this word.\n",
      "   \n",
      "2. Outline the approach:\n",
      "   - Break down the word into its constituent letters.\n",
      "   - Identify and count the instances of the letter 'r'.\n",
      "   \n",
      "3. Plan of steps:\n",
      "   a. Write out the word \"strawberry\" with its individual letters: s-t-r-a-w-b-e-r-r-y\n",
      "   b. Count the number of 'r's in the word.\n",
      "   \n",
      "4. Chain of Thought:\n",
      "   1. The word has the following letters: s, t, r, a, w, b, e, r, r, y\n",
      "   2. Identify each occurrence of 'r': there are two distinct 'r' instances.\n",
      "   3. Count these occurrences to find the total number of 'r's in the word.\n",
      "\n",
      "<reflection>\n",
      "- Review: The task is to count the number of letter 'r' in \"strawberry\".\n",
      "- Check for errors:\n",
      "  - Ensure we're only counting the letter 'r', not other similar-looking letters.\n",
      "  - Double-check that there are no additional 'r's beyond what we've identified.\n",
      "- Conclusion: There are indeed two 'r's in \"strawberry\", one pair of them being consecutive.\n",
      "\n",
      "</reflection>\n",
      "\n",
      "<reflection>\n",
      "- Review: We've counted and confirmed the presence of two 'r's.\n",
      "- Check for oversights:\n",
      "  - Verify that no other letters were mistakenly counted as 'r'.\n",
      "  - Confirm our counting method is accurate and unbiased.\n",
      "- Confirmation: Our count of two 'r's remains sound.\n",
      "\n",
      "</reflection>\n",
      "\n",
      "</thinking>\n",
      "\n",
      "<output>\n",
      "The word \"strawberry\" contains two instances of the letter 'r'.\n",
      "\n",
      "Related concepts:\n",
      "1. Letter frequency in words\n",
      "2. Counting and basic arithmetic operations\n",
      "\n",
      "Is there anything else you'd like to clarify or explore regarding this counting process?\n",
      "</output>\n",
      "========Final Answer=========\n",
      "\n",
      "The word \"strawberry\" contains two instances of the letter 'r'.\n",
      "\n",
      "Related concepts:\n",
      "1. Letter frequency in words\n",
      "2. Counting and basic arithmetic operations\n",
      "\n",
      "Is there anything else you'd like to clarify or explore regarding this counting process?\n",
      "\n"
     ]
    }
   ],
   "source": [
    "query = \"count number of letter r in word strawberry?\"\n",
    "\n",
    "thinker = OllamaIntuitiveThinker(llm_url=ollama_url)\n",
    "response = await thinker.llmchat(question=query,\n",
    "                           llm_model=ollama_model,\n",
    "                           mental_model=MentalModel.CHAIN_OF_THOUGHTS)\n",
    "print(10*\"===\")\n",
    "print(response)\n",
    "\n",
    "final_answer = thinker.parse_output(response)\n",
    "print(\"========Final Answer=========\")\n",
    "print(final_answer)"
   ]
  },
  {
   "cell_type": "markdown",
   "id": "1d5c6faa-1c6c-425d-80ce-20cfc91618e1",
   "metadata": {},
   "source": [
    "### Dynamic Model Loading \n",
    "(required ollama function calling support)"
   ]
  },
  {
   "cell_type": "markdown",
   "id": "f4b5ac7c-b2c3-4888-8a16-758208516f46",
   "metadata": {},
   "source": [
    "use `iceberg_thinking` to perform thinking to solve the query"
   ]
  },
  {
   "cell_type": "markdown",
   "id": "058541f3-3978-48de-bf17-8d1f67d6db3c",
   "metadata": {},
   "source": [
    "#### Icerberg Mental Model"
   ]
  },
  {
   "cell_type": "code",
   "execution_count": 10,
   "id": "4ac0a6e9-270e-44ef-8ef2-0f0b9cd3d535",
   "metadata": {},
   "outputs": [
    {
     "data": {
      "text/html": [
       "<pre style=\"white-space:pre;overflow-x:auto;line-height:normal;font-family:Menlo,'DejaVu Sans Mono',consolas,'Courier New',monospace\"><span style=\"color: #808000; text-decoration-color: #808000\">...</span>calling tool:\n",
       "\n",
       "<span style=\"font-weight: bold\">[</span>\n",
       "    <span style=\"font-weight: bold\">{</span>\n",
       "        <span style=\"color: #008000; text-decoration-color: #008000\">'function'</span>: <span style=\"font-weight: bold\">{</span>\n",
       "            <span style=\"color: #008000; text-decoration-color: #008000\">'name'</span>: <span style=\"color: #008000; text-decoration-color: #008000\">'apply_thinking_model'</span>,\n",
       "            <span style=\"color: #008000; text-decoration-color: #008000\">'arguments'</span>: <span style=\"font-weight: bold\">{</span>\n",
       "                <span style=\"color: #008000; text-decoration-color: #008000\">'model'</span>: <span style=\"color: #008000; text-decoration-color: #008000\">'iceberg_thinking'</span>,\n",
       "                <span style=\"color: #008000; text-decoration-color: #008000\">'query'</span>: <span style=\"color: #008000; text-decoration-color: #008000\">\"Patel family who is planning a road trip from Toronto to Vancouver, covering a total </span>\n",
       "<span style=\"color: #008000; text-decoration-color: #008000\">distance of 4,400 km. They want to divide the drive into equal parts over 5 days, with each day's drive being 15 km</span>\n",
       "<span style=\"color: #008000; text-decoration-color: #008000\">longer than the previous day. If they drive x km on the first day, what is the value of x that will allow them to </span>\n",
       "<span style=\"color: #008000; text-decoration-color: #008000\">complete the trip in 5 days?\"</span>\n",
       "            <span style=\"font-weight: bold\">}</span>\n",
       "        <span style=\"font-weight: bold\">}</span>\n",
       "    <span style=\"font-weight: bold\">}</span>\n",
       "<span style=\"font-weight: bold\">]</span>\n",
       "</pre>\n"
      ],
      "text/plain": [
       "\u001b[33m...\u001b[0mcalling tool:\n",
       "\n",
       "\u001b[1m[\u001b[0m\n",
       "    \u001b[1m{\u001b[0m\n",
       "        \u001b[32m'function'\u001b[0m: \u001b[1m{\u001b[0m\n",
       "            \u001b[32m'name'\u001b[0m: \u001b[32m'apply_thinking_model'\u001b[0m,\n",
       "            \u001b[32m'arguments'\u001b[0m: \u001b[1m{\u001b[0m\n",
       "                \u001b[32m'model'\u001b[0m: \u001b[32m'iceberg_thinking'\u001b[0m,\n",
       "                \u001b[32m'query'\u001b[0m: \u001b[32m\"Patel family who is planning a road trip from Toronto to Vancouver, covering a total \u001b[0m\n",
       "\u001b[32mdistance of 4,400 km. They want to divide the drive into equal parts over 5 days, with each day's drive being 15 km\u001b[0m\n",
       "\u001b[32mlonger than the previous day. If they drive x km on the first day, what is the value of x that will allow them to \u001b[0m\n",
       "\u001b[32mcomplete the trip in 5 days?\"\u001b[0m\n",
       "            \u001b[1m}\u001b[0m\n",
       "        \u001b[1m}\u001b[0m\n",
       "    \u001b[1m}\u001b[0m\n",
       "\u001b[1m]\u001b[0m\n"
      ]
     },
     "metadata": {},
     "output_type": "display_data"
    },
    {
     "name": "stdout",
     "output_type": "stream",
     "text": [
      "...use thinking_model(iceberg_thinking,Patel family who is planning a road trip from Toronto to Vancouver, covering a total distance of 4,400 km. They want to divide the drive into equal parts over 5 days, with each day's drive being 15 km longer than the previous day. If they drive x km on the first day, what is the value of x that will allow them to complete the trip in 5 days?)\n",
      "\n"
     ]
    },
    {
     "data": {
      "text/html": [
       "<pre style=\"white-space:pre;overflow-x:auto;line-height:normal;font-family:Menlo,'DejaVu Sans Mono',consolas,'Courier New',monospace\">***after tool call response***\n",
       "</pre>\n"
      ],
      "text/plain": [
       "***after tool call response***\n"
      ]
     },
     "metadata": {},
     "output_type": "display_data"
    },
    {
     "name": "stdout",
     "output_type": "stream",
     "text": [
      "==============================\n",
      "<thinking>\n",
      "To solve this problem, we need to find the value of x that will allow the Patel family to complete their road trip in 5 days. \n",
      "\n",
      "1. First, let's identify the total distance they need to cover (4,400 km).\n",
      "2. Next, we know each day's drive is 15 km longer than the previous day.\n",
      "3. We can use algebraic expressions to represent this situation:\n",
      "   Let x be the distance driven on the first day.\n",
      "   Then, the distances for the next four days are: x + 15, x + 30, x + 45, and x + 60.\n",
      "4. The sum of these distances should equal the total distance (4,400 km).\n",
      "5. We can write this as an equation:\n",
      "\n",
      "x + (x + 15) + (x + 30) + (x + 45) + (x + 60) = 4400\n",
      "\n",
      "6. Combine like terms:\n",
      "   5x + 150 = 4400\n",
      "7. Subtract 150 from both sides:\n",
      "   5x = 4250\n",
      "8. Divide by 5 to solve for x:\n",
      "   x = 850\n",
      "\n",
      "Therefore, the Patel family should drive 850 km on the first day.\n",
      "\n",
      "<reflection>\n",
      "Reviewing our reasoning:\n",
      "- We correctly identified the total distance and the increase in distance each day.\n",
      "- Our algebraic expression accurately represented the situation.\n",
      "- The equation we formed was logical and correct.\n",
      "- Solving for x gave us a plausible answer (within the context of a road trip).\n",
      "</reflection>\n",
      "\n",
      "<output>\n",
      "The value of x that will allow the Patel family to complete their road trip in 5 days is 850 km.\n",
      "</output>\n",
      "========Final Answer=========\n",
      "\n",
      "The value of x that will allow the Patel family to complete their road trip in 5 days is 850 km.\n",
      "\n"
     ]
    }
   ],
   "source": [
    "##\n",
    "## Use: Icerberg Mental Model\n",
    "##\n",
    "\n",
    "query = \"\"\"\n",
    "apply iceberg_thinking thinking for query:\n",
    "Patel family who is planning a road trip from Toronto to Vancouver, covering a total distance of 4,400 km. They want to divide the drive into equal parts over 5 days, with each day's drive being 15 km longer than the previous day. If they drive x km on the first day, what is the value of x that will allow them to complete the trip in 5 days?]\n",
    "\"\"\"\n",
    "\n",
    "thinker = OllamaIntuitiveThinker(llm_url=ollama_url)\n",
    "response = await thinker.llmchat(question=query,\n",
    "                           llm_model=ollama_model,\n",
    "                           mental_model=None)\n",
    "print(10*\"===\")\n",
    "print(response)\n",
    "\n",
    "final_answer = thinker.parse_output(response)\n",
    "print(\"========Final Answer=========\")\n",
    "print(final_answer)"
   ]
  },
  {
   "cell_type": "markdown",
   "id": "7924c7bb-a90d-4021-8bb5-5f869abf0a90",
   "metadata": {},
   "source": [
    "#### Thinking Fast and Slow "
   ]
  },
  {
   "cell_type": "code",
   "execution_count": 9,
   "id": "90b34459-59fd-4abc-9ca0-ee13b919277e",
   "metadata": {},
   "outputs": [
    {
     "data": {
      "text/html": [
       "<pre style=\"white-space:pre;overflow-x:auto;line-height:normal;font-family:Menlo,'DejaVu Sans Mono',consolas,'Courier New',monospace\"><span style=\"color: #808000; text-decoration-color: #808000\">...</span>calling tool:\n",
       "\n",
       "<span style=\"font-weight: bold\">[</span>\n",
       "    <span style=\"font-weight: bold\">{</span>\n",
       "        <span style=\"color: #008000; text-decoration-color: #008000\">'function'</span>: <span style=\"font-weight: bold\">{</span>\n",
       "            <span style=\"color: #008000; text-decoration-color: #008000\">'name'</span>: <span style=\"color: #008000; text-decoration-color: #008000\">'apply_thinking_model'</span>,\n",
       "            <span style=\"color: #008000; text-decoration-color: #008000\">'arguments'</span>: <span style=\"font-weight: bold\">{</span>\n",
       "                <span style=\"color: #008000; text-decoration-color: #008000\">'model'</span>: <span style=\"color: #008000; text-decoration-color: #008000\">'thinking_fast_and_slow'</span>,\n",
       "                <span style=\"color: #008000; text-decoration-color: #008000\">'query'</span>: <span style=\"color: #008000; text-decoration-color: #008000\">\"A family plans a 5-day road trip from Toronto to Vancouver. They want equal daily </span>\n",
       "<span style=\"color: #008000; text-decoration-color: #008000\">distances, increasing by 15 km each day. What's the first day's distance?\"</span>\n",
       "            <span style=\"font-weight: bold\">}</span>\n",
       "        <span style=\"font-weight: bold\">}</span>\n",
       "    <span style=\"font-weight: bold\">}</span>\n",
       "<span style=\"font-weight: bold\">]</span>\n",
       "</pre>\n"
      ],
      "text/plain": [
       "\u001b[33m...\u001b[0mcalling tool:\n",
       "\n",
       "\u001b[1m[\u001b[0m\n",
       "    \u001b[1m{\u001b[0m\n",
       "        \u001b[32m'function'\u001b[0m: \u001b[1m{\u001b[0m\n",
       "            \u001b[32m'name'\u001b[0m: \u001b[32m'apply_thinking_model'\u001b[0m,\n",
       "            \u001b[32m'arguments'\u001b[0m: \u001b[1m{\u001b[0m\n",
       "                \u001b[32m'model'\u001b[0m: \u001b[32m'thinking_fast_and_slow'\u001b[0m,\n",
       "                \u001b[32m'query'\u001b[0m: \u001b[32m\"A family plans a 5-day road trip from Toronto to Vancouver. They want equal daily \u001b[0m\n",
       "\u001b[32mdistances, increasing by 15 km each day. What's the first day's distance?\"\u001b[0m\n",
       "            \u001b[1m}\u001b[0m\n",
       "        \u001b[1m}\u001b[0m\n",
       "    \u001b[1m}\u001b[0m\n",
       "\u001b[1m]\u001b[0m\n"
      ]
     },
     "metadata": {},
     "output_type": "display_data"
    },
    {
     "name": "stdout",
     "output_type": "stream",
     "text": [
      "...use thinking_model(thinking_fast_and_slow,A family plans a 5-day road trip from Toronto to Vancouver. They want equal daily distances, increasing by 15 km each day. What's the first day's distance?)\n",
      "\n"
     ]
    },
    {
     "data": {
      "text/html": [
       "<pre style=\"white-space:pre;overflow-x:auto;line-height:normal;font-family:Menlo,'DejaVu Sans Mono',consolas,'Courier New',monospace\">***after tool call response***\n",
       "</pre>\n"
      ],
      "text/plain": [
       "***after tool call response***\n"
      ]
     },
     "metadata": {},
     "output_type": "display_data"
    },
    {
     "name": "stdout",
     "output_type": "stream",
     "text": [
      "==============================\n",
      "<thinking>\n",
      "<reflection>\n",
      "\n",
      "1. The total distance of the trip is 4,400 km.\n",
      "2. The family wants to divide the drive into equal parts over 5 days, with each day's drive being 15 km longer than the previous day.\n",
      "3. Let x be the distance driven on the first day.\n",
      "\n",
      "Chain of Thought:\n",
      "Step 1: Calculate the total increase in distance over 5 days\n",
      "Total increase = 15 km/day * 5 days = <<15*5=75>>75 km\n",
      "\n",
      "Step 2: Set up an equation for the total distance\n",
      "x + (x+15) + (x+30) + (x+45) + (x+60) = 4400\n",
      "\n",
      "Step 3: Simplify and solve the equation\n",
      "5x + 150 = 4400\n",
      "5x = 4250\n",
      "x = 850\n",
      "\n",
      "<reflection>\n",
      "Is the distance increasing by 15 km each day?\n",
      "Yes, it is.\n",
      "\n",
      "Does the total increase in distance over 5 days make sense?\n",
      "Yes, it does (75 km).\n",
      "\n",
      "Is my calculation for x correct?\n",
      "Yes, I confirmed with a step-by-step solution.\n",
      "\n",
      "Conclusion:\n",
      "The family should drive 850 km on the first day to complete the trip in 5 days.\n",
      "\n",
      "<output>\n",
      "The value of x that will allow the Patel family to complete their road trip from Toronto to Vancouver in 5 days is 850 km.\n",
      "</thinking>\n",
      "========Final Answer=========\n",
      "\n",
      "The value of x that will allow the Patel family to complete their road trip from Toronto to Vancouver in 5 days is 850 km.\n",
      "\n"
     ]
    }
   ],
   "source": [
    "##\n",
    "## Use: Thinking Fast and Slow \n",
    "##\n",
    "query = \"\"\"\n",
    "apply thinking_fast_and_slow thinking for query:\n",
    "Patel family who is planning a road trip from Toronto to Vancouver, covering a total distance of 4,400 km. They want to divide the drive into equal parts over 5 days, with each day's drive being 15 km longer than the previous day. If they drive x km on the first day, what is the value of x that will allow them to complete the trip in 5 days?]\n",
    "\"\"\"\n",
    "\n",
    "thinker = OllamaIntuitiveThinker(llm_url=ollama_url)\n",
    "response = await thinker.llmchat(question=query,\n",
    "                           llm_model=ollama_model,\n",
    "                           mental_model=None)\n",
    "print(10*\"===\")\n",
    "print(response)\n",
    "\n",
    "final_answer = thinker.parse_output(response)\n",
    "print(\"========Final Answer=========\")\n",
    "print(final_answer)"
   ]
  },
  {
   "cell_type": "markdown",
   "id": "2130b5ab-899f-4d72-a7cd-7144d20cdd55",
   "metadata": {},
   "source": [
    "#### Second Order Thinking "
   ]
  },
  {
   "cell_type": "code",
   "execution_count": 10,
   "id": "114f2325-c236-4659-8fbb-0e3a2658fb84",
   "metadata": {},
   "outputs": [
    {
     "data": {
      "text/html": [
       "<pre style=\"white-space:pre;overflow-x:auto;line-height:normal;font-family:Menlo,'DejaVu Sans Mono',consolas,'Courier New',monospace\"><span style=\"color: #808000; text-decoration-color: #808000\">...</span>calling tool:\n",
       "\n",
       "<span style=\"font-weight: bold\">[</span>\n",
       "    <span style=\"font-weight: bold\">{</span>\n",
       "        <span style=\"color: #008000; text-decoration-color: #008000\">'function'</span>: <span style=\"font-weight: bold\">{</span>\n",
       "            <span style=\"color: #008000; text-decoration-color: #008000\">'name'</span>: <span style=\"color: #008000; text-decoration-color: #008000\">'apply_thinking_model'</span>,\n",
       "            <span style=\"color: #008000; text-decoration-color: #008000\">'arguments'</span>: <span style=\"font-weight: bold\">{</span>\n",
       "                <span style=\"color: #008000; text-decoration-color: #008000\">'model'</span>: <span style=\"color: #008000; text-decoration-color: #008000\">'second_order_thinking'</span>,\n",
       "                <span style=\"color: #008000; text-decoration-color: #008000\">'query'</span>: <span style=\"color: #008000; text-decoration-color: #008000\">\"Patel family who is planning a road trip from Toronto to Vancouver, covering a total </span>\n",
       "<span style=\"color: #008000; text-decoration-color: #008000\">distance of 4,400 km. They want to divide the drive into equal parts over 5 days, with each day's drive being 15 km</span>\n",
       "<span style=\"color: #008000; text-decoration-color: #008000\">longer than the previous day. If they drive x km on the first day, what is the value of x that will allow them to </span>\n",
       "<span style=\"color: #008000; text-decoration-color: #008000\">complete the trip in 5 days?}\"</span>\n",
       "            <span style=\"font-weight: bold\">}</span>\n",
       "        <span style=\"font-weight: bold\">}</span>\n",
       "    <span style=\"font-weight: bold\">}</span>\n",
       "<span style=\"font-weight: bold\">]</span>\n",
       "</pre>\n"
      ],
      "text/plain": [
       "\u001b[33m...\u001b[0mcalling tool:\n",
       "\n",
       "\u001b[1m[\u001b[0m\n",
       "    \u001b[1m{\u001b[0m\n",
       "        \u001b[32m'function'\u001b[0m: \u001b[1m{\u001b[0m\n",
       "            \u001b[32m'name'\u001b[0m: \u001b[32m'apply_thinking_model'\u001b[0m,\n",
       "            \u001b[32m'arguments'\u001b[0m: \u001b[1m{\u001b[0m\n",
       "                \u001b[32m'model'\u001b[0m: \u001b[32m'second_order_thinking'\u001b[0m,\n",
       "                \u001b[32m'query'\u001b[0m: \u001b[32m\"Patel family who is planning a road trip from Toronto to Vancouver, covering a total \u001b[0m\n",
       "\u001b[32mdistance of 4,400 km. They want to divide the drive into equal parts over 5 days, with each day's drive being 15 km\u001b[0m\n",
       "\u001b[32mlonger than the previous day. If they drive x km on the first day, what is the value of x that will allow them to \u001b[0m\n",
       "\u001b[32mcomplete the trip in 5 days?\u001b[0m\u001b[32m}\u001b[0m\u001b[32m\"\u001b[0m\n",
       "            \u001b[1m}\u001b[0m\n",
       "        \u001b[1m}\u001b[0m\n",
       "    \u001b[1m}\u001b[0m\n",
       "\u001b[1m]\u001b[0m\n"
      ]
     },
     "metadata": {},
     "output_type": "display_data"
    },
    {
     "name": "stdout",
     "output_type": "stream",
     "text": [
      "...use thinking_model(second_order_thinking,Patel family who is planning a road trip from Toronto to Vancouver, covering a total distance of 4,400 km. They want to divide the drive into equal parts over 5 days, with each day's drive being 15 km longer than the previous day. If they drive x km on the first day, what is the value of x that will allow them to complete the trip in 5 days?})\n",
      "\n"
     ]
    },
    {
     "data": {
      "text/html": [
       "<pre style=\"white-space:pre;overflow-x:auto;line-height:normal;font-family:Menlo,'DejaVu Sans Mono',consolas,'Courier New',monospace\">***after tool call response***\n",
       "</pre>\n"
      ],
      "text/plain": [
       "***after tool call response***\n"
      ]
     },
     "metadata": {},
     "output_type": "display_data"
    },
    {
     "name": "stdout",
     "output_type": "stream",
     "text": [
      "==============================\n",
      "<thinking>\n",
      "The Patel family needs to cover a total distance of 4,400 km in 5 days, with each day's drive being 15 km longer than the previous day. We need to find the value of x that will allow them to complete the trip in 5 days.\n",
      "\n",
      "Let's break down the problem:\n",
      "\n",
      "1. The total distance is 4,400 km.\n",
      "2. The family will drive for 5 days.\n",
      "3. Each day's drive is 15 km longer than the previous day.\n",
      "4. We need to find the value of x that will allow them to complete the trip in 5 days.\n",
      "\n",
      "We can start by finding the total distance driven on each day:\n",
      "\n",
      "Day 1: x km\n",
      "Day 2: x + 15 km\n",
      "Day 3: x + 30 km\n",
      "Day 4: x + 45 km\n",
      "Day 5: x + 60 km\n",
      "\n",
      "The sum of the distances driven on each day is equal to the total distance:\n",
      "\n",
      "x + (x + 15) + (x + 30) + (x + 45) + (x + 60) = 4,400\n",
      "\n",
      "Combine like terms:\n",
      "\n",
      "5x + 150 = 4,400\n",
      "\n",
      "Subtract 150 from both sides:\n",
      "\n",
      "5x = 4,250\n",
      "\n",
      "Divide by 5:\n",
      "\n",
      "x = 850\n",
      "\n",
      "Therefore, the value of x is 850.\n",
      "\n",
      "<reflection>\n",
      "Let's review our reasoning and check for potential errors or oversights.\n",
      "\n",
      "1. We correctly calculated the total distance driven on each day.\n",
      "2. We combined like terms and solved for x.\n",
      "3. Our solution satisfies the given constraints: x = 850 km, which allows the family to complete the trip in 5 days with each day's drive being 15 km longer than the previous day.\n",
      "\n",
      "There are no apparent errors or oversights in our reasoning process.\n",
      "\n",
      "<second_order_thinking>\n",
      "Let's consider the immediate and direct outcomes of our decision:\n",
      "\n",
      "1. The Patel family will cover a total distance of 4,400 km in 5 days.\n",
      "2. Each day's drive will be 15 km longer than the previous day.\n",
      "\n",
      "As a result of this decision, the following second-order consequences may occur:\n",
      "\n",
      "1. The family will experience varying levels of fatigue due to the increasing daily distances.\n",
      "2. They may need to adjust their driving schedule and rest periods accordingly.\n",
      "3. The increased distance on later days may require more fuel and potentially impact their overall trip budget.\n",
      "\n",
      "Assessing the likelihood and potential impact of these second-order consequences, we can expect:\n",
      "\n",
      "1. Fatigue levels will likely increase on later days, affecting driving performance.\n",
      "2. Adjustments to the driving schedule and rest periods will be necessary to mitigate fatigue risks.\n",
      "3. Fuel consumption may increase on later days, potentially impacting the trip budget.\n",
      "\n",
      "Considering different perspectives, such as those of passengers or other road users, we should also consider:\n",
      "\n",
      "1. The potential impact on passenger comfort and safety due to increased driving times.\n",
      "2. The risk of fatigue-related accidents or near-misses affecting other road users.\n",
      "\n",
      "In similar past scenarios, such as long-distance road trips, families have successfully managed varying daily distances by adjusting their schedule, rest periods, and fuel consumption habits.\n",
      "\n",
      "Best-case scenario: The family successfully completes the trip in 5 days with minimal disruptions.\n",
      "Worst-case scenario: Fatigue-related issues lead to accidents or near-misses, compromising the safety of the family and other road users.\n",
      "\n",
      "The direct benefits of this decision include completing the trip in 5 days, which may allow for more exploration and activities during the journey. The potential drawbacks include increased fatigue levels and higher fuel costs on later days.\n",
      "\n",
      "</thinking>\n",
      "\n",
      "<output>\n",
      "Based on our analysis, the value of x that will allow the Patel family to complete the trip in 5 days is x = 850 km. This solution satisfies the given constraints: the total distance is covered in 5 days with each day's drive being 15 km longer than the previous day.\n",
      "\n",
      "To confirm this conclusion, let's review our steps:\n",
      "\n",
      "1. We correctly calculated the total distance driven on each day.\n",
      "2. We combined like terms and solved for x.\n",
      "3. Our solution satisfies the given constraints: x = 850 km, which allows the family to complete the trip in 5 days with each day's drive being 15 km longer than the previous day.\n",
      "\n",
      "There are no apparent errors or oversights in our reasoning process.\n",
      "\n",
      "In conclusion, the value of x that will allow the Patel family to complete the trip in 5 days is indeed 850 km.\n",
      "\n",
      "</thinking>\n",
      "========Final Answer=========\n",
      "\n",
      "Based on our analysis, the value of x that will allow the Patel family to complete the trip in 5 days is x = 850 km. This solution satisfies the given constraints: the total distance is covered in 5 days with each day's drive being 15 km longer than the previous day.\n",
      "\n",
      "To confirm this conclusion, let's review our steps:\n",
      "\n",
      "1. We correctly calculated the total distance driven on each day.\n",
      "2. We combined like terms and solved for x.\n",
      "3. Our solution satisfies the given constraints: x = 850 km, which allows the family to complete the trip in 5 days with each day's drive being 15 km longer than the previous day.\n",
      "\n",
      "There are no apparent errors or oversights in our reasoning process.\n",
      "\n",
      "In conclusion, the value of x that will allow the Patel family to complete the trip in 5 days is indeed 850 km.\n",
      "\n",
      "\n"
     ]
    }
   ],
   "source": [
    "##\n",
    "## Use: Second Order Thinking \n",
    "##\n",
    "query = \"\"\"\n",
    "apply second_order_thinking thinking for query:\n",
    "Patel family who is planning a road trip from Toronto to Vancouver, covering a total distance of 4,400 km. They want to divide the drive into equal parts over 5 days, with each day's drive being 15 km longer than the previous day. If they drive x km on the first day, what is the value of x that will allow them to complete the trip in 5 days?]\n",
    "\"\"\"\n",
    "\n",
    "thinker = OllamaIntuitiveThinker(llm_url=ollama_url)\n",
    "response = await thinker.llmchat(question=query,\n",
    "                           llm_model=ollama_model,\n",
    "                           mental_model=None)\n",
    "print(10*\"===\")\n",
    "print(response)\n",
    "\n",
    "final_answer = thinker.parse_output(response)\n",
    "print(\"========Final Answer=========\")\n",
    "print(final_answer)"
   ]
  },
  {
   "cell_type": "markdown",
   "id": "a6d36a6d-68c4-4b5f-9c52-9f72a5195963",
   "metadata": {},
   "source": [
    "### Non-Linear Thinking"
   ]
  },
  {
   "cell_type": "code",
   "execution_count": 11,
   "id": "f535f169-910e-44c1-a77d-1aeb8f7502fd",
   "metadata": {},
   "outputs": [
    {
     "data": {
      "text/html": [
       "<pre style=\"white-space:pre;overflow-x:auto;line-height:normal;font-family:Menlo,'DejaVu Sans Mono',consolas,'Courier New',monospace\"><span style=\"color: #808000; text-decoration-color: #808000\">...</span>calling tool:\n",
       "\n",
       "<span style=\"font-weight: bold\">[</span>\n",
       "    <span style=\"font-weight: bold\">{</span>\n",
       "        <span style=\"color: #008000; text-decoration-color: #008000\">'function'</span>: <span style=\"font-weight: bold\">{</span>\n",
       "            <span style=\"color: #008000; text-decoration-color: #008000\">'name'</span>: <span style=\"color: #008000; text-decoration-color: #008000\">'apply_thinking_model'</span>,\n",
       "            <span style=\"color: #008000; text-decoration-color: #008000\">'arguments'</span>: <span style=\"font-weight: bold\">{</span>\n",
       "                <span style=\"color: #008000; text-decoration-color: #008000\">'model'</span>: <span style=\"color: #008000; text-decoration-color: #008000\">'nonlinear_thinking'</span>,\n",
       "                <span style=\"color: #008000; text-decoration-color: #008000\">'query'</span>: <span style=\"color: #008000; text-decoration-color: #008000\">\"Patel family who is planning a road trip from Toronto to Vancouver, covering a total </span>\n",
       "<span style=\"color: #008000; text-decoration-color: #008000\">distance of 4,400 km. They want to divide the drive into equal parts over 5 days, with each day's drive being 15 km</span>\n",
       "<span style=\"color: #008000; text-decoration-color: #008000\">longer than the previous day. If they drive x km on the first day, what is the value of x that will allow them to </span>\n",
       "<span style=\"color: #008000; text-decoration-color: #008000\">complete the trip in 5 days?\"</span>\n",
       "            <span style=\"font-weight: bold\">}</span>\n",
       "        <span style=\"font-weight: bold\">}</span>\n",
       "    <span style=\"font-weight: bold\">}</span>\n",
       "<span style=\"font-weight: bold\">]</span>\n",
       "</pre>\n"
      ],
      "text/plain": [
       "\u001b[33m...\u001b[0mcalling tool:\n",
       "\n",
       "\u001b[1m[\u001b[0m\n",
       "    \u001b[1m{\u001b[0m\n",
       "        \u001b[32m'function'\u001b[0m: \u001b[1m{\u001b[0m\n",
       "            \u001b[32m'name'\u001b[0m: \u001b[32m'apply_thinking_model'\u001b[0m,\n",
       "            \u001b[32m'arguments'\u001b[0m: \u001b[1m{\u001b[0m\n",
       "                \u001b[32m'model'\u001b[0m: \u001b[32m'nonlinear_thinking'\u001b[0m,\n",
       "                \u001b[32m'query'\u001b[0m: \u001b[32m\"Patel family who is planning a road trip from Toronto to Vancouver, covering a total \u001b[0m\n",
       "\u001b[32mdistance of 4,400 km. They want to divide the drive into equal parts over 5 days, with each day's drive being 15 km\u001b[0m\n",
       "\u001b[32mlonger than the previous day. If they drive x km on the first day, what is the value of x that will allow them to \u001b[0m\n",
       "\u001b[32mcomplete the trip in 5 days?\"\u001b[0m\n",
       "            \u001b[1m}\u001b[0m\n",
       "        \u001b[1m}\u001b[0m\n",
       "    \u001b[1m}\u001b[0m\n",
       "\u001b[1m]\u001b[0m\n"
      ]
     },
     "metadata": {},
     "output_type": "display_data"
    },
    {
     "name": "stdout",
     "output_type": "stream",
     "text": [
      "...use thinking_model(nonlinear_thinking,Patel family who is planning a road trip from Toronto to Vancouver, covering a total distance of 4,400 km. They want to divide the drive into equal parts over 5 days, with each day's drive being 15 km longer than the previous day. If they drive x km on the first day, what is the value of x that will allow them to complete the trip in 5 days?)\n",
      "\n"
     ]
    },
    {
     "data": {
      "text/html": [
       "<pre style=\"white-space:pre;overflow-x:auto;line-height:normal;font-family:Menlo,'DejaVu Sans Mono',consolas,'Courier New',monospace\">***after tool call response***\n",
       "</pre>\n"
      ],
      "text/plain": [
       "***after tool call response***\n"
      ]
     },
     "metadata": {},
     "output_type": "display_data"
    },
    {
     "name": "stdout",
     "output_type": "stream",
     "text": [
      "==============================\n",
      "<thinking>\n",
      "To solve this problem, we need to find the value of x that will allow the Patel family to complete their road trip in 5 days. We know that each day's drive is 15 km longer than the previous day, and they want to divide the total distance of 4,400 km into equal parts over 5 days.\n",
      "\n",
      "Here's a step-by-step approach to solve this problem:\n",
      "\n",
      "1. Let x be the distance driven on the first day.\n",
      "2. The distance driven on each subsequent day will be:\n",
      "   Day 2: x + 15\n",
      "   Day 3: (x + 15) + 15 = x + 30\n",
      "   Day 4: (x + 30) + 15 = x + 45\n",
      "   Day 5: (x + 45) + 15 = x + 60\n",
      "\n",
      "3. The total distance driven over 5 days is the sum of the distances driven each day:\n",
      "   Total Distance = x + (x + 15) + (x + 30) + (x + 45) + (x + 60)\n",
      "\n",
      "4. We know that the total distance is 4,400 km, so we can set up an equation and solve for x:\n",
      "\n",
      "   x + (x + 15) + (x + 30) + (x + 45) + (x + 60) = 4400\n",
      "\n",
      "5. Combine like terms and simplify the equation:\n",
      "   5x + 150 = 4400\n",
      "   5x = 4250\n",
      "   x = 850\n",
      "\n",
      "Therefore, the Patel family should drive 850 km on the first day to complete their road trip in 5 days.\n",
      "\n",
      "<reflection>\n",
      "I have reviewed my reasoning and confirmed that the solution is correct.\n",
      "I have also considered potential errors or oversights:\n",
      "- I assumed that the distances driven each day are linearly increasing by 15 km, which may not be exactly accurate but should be close enough for this problem.\n",
      "- I did not consider any potential obstacles or road closures that might affect the actual distance driven each day.\n",
      "</reflection>\n",
      "\n",
      "<Non-linearity>\n",
      "This is a classic example of a non-linear system, where small changes in one variable (the distance driven on the first day) can have significant effects on another variable (the total distance driven over 5 days). The relationship between cause and effect is not proportional or predictable, making it challenging to solve without careful analysis.\n",
      "\n",
      "The solution involves recognizing that the distances driven each day are increasing linearly but by a fixed amount (15 km), which leads to an arithmetic series. By summing this series, we can find the total distance driven over 5 days.\n",
      "</Non-linearity>\n",
      "\n",
      "<output>\n",
      "The value of x that will allow the Patel family to complete their road trip in 5 days is 850 km.\n",
      "</output>\n",
      "========Final Answer=========\n",
      "\n",
      "The value of x that will allow the Patel family to complete their road trip in 5 days is 850 km.\n",
      "\n"
     ]
    }
   ],
   "source": [
    "##\n",
    "## Use: Non-Linear Thinking\n",
    "##\n",
    "query = \"\"\"\n",
    "apply nonlinear_thinking thinking for query:\n",
    "Patel family who is planning a road trip from Toronto to Vancouver, covering a total distance of 4,400 km. They want to divide the drive into equal parts over 5 days, with each day's drive being 15 km longer than the previous day. If they drive x km on the first day, what is the value of x that will allow them to complete the trip in 5 days?]\n",
    "\"\"\"\n",
    "\n",
    "thinker = OllamaIntuitiveThinker(llm_url=ollama_url)\n",
    "response = await thinker.llmchat(question=query,\n",
    "                           llm_model=ollama_model,\n",
    "                           mental_model=None)\n",
    "print(10*\"===\")\n",
    "print(response)\n",
    "\n",
    "final_answer = thinker.parse_output(response)\n",
    "print(\"========Final Answer=========\")\n",
    "print(final_answer)"
   ]
  },
  {
   "cell_type": "markdown",
   "id": "b46e72d4-98d3-47f4-af86-5969efd6f7ab",
   "metadata": {},
   "source": [
    "### Critical Thinking"
   ]
  },
  {
   "cell_type": "code",
   "execution_count": 12,
   "id": "8a9ea4a9-3de3-45f8-b74d-da61cb605476",
   "metadata": {},
   "outputs": [
    {
     "data": {
      "text/html": [
       "<pre style=\"white-space:pre;overflow-x:auto;line-height:normal;font-family:Menlo,'DejaVu Sans Mono',consolas,'Courier New',monospace\"><span style=\"color: #808000; text-decoration-color: #808000\">...</span>calling tool:\n",
       "\n",
       "<span style=\"font-weight: bold\">[</span>\n",
       "    <span style=\"font-weight: bold\">{</span>\n",
       "        <span style=\"color: #008000; text-decoration-color: #008000\">'function'</span>: <span style=\"font-weight: bold\">{</span>\n",
       "            <span style=\"color: #008000; text-decoration-color: #008000\">'name'</span>: <span style=\"color: #008000; text-decoration-color: #008000\">'apply_thinking_model'</span>,\n",
       "            <span style=\"color: #008000; text-decoration-color: #008000\">'arguments'</span>: <span style=\"font-weight: bold\">{</span>\n",
       "                <span style=\"color: #008000; text-decoration-color: #008000\">'model'</span>: <span style=\"color: #008000; text-decoration-color: #008000\">'critical_thinking'</span>,\n",
       "                <span style=\"color: #008000; text-decoration-color: #008000\">'query'</span>: <span style=\"color: #008000; text-decoration-color: #008000\">\"Patel family who is planning a road trip from Toronto to Vancouver, covering a total </span>\n",
       "<span style=\"color: #008000; text-decoration-color: #008000\">distance of 4,400 km. They want to divide the drive into equal parts over 5 days, with each day's drive being 15 km</span>\n",
       "<span style=\"color: #008000; text-decoration-color: #008000\">longer than the previous day. If they drive x km on the first day, what is the value of x that will allow them to </span>\n",
       "<span style=\"color: #008000; text-decoration-color: #008000\">complete the trip in 5 days?\"</span>\n",
       "            <span style=\"font-weight: bold\">}</span>\n",
       "        <span style=\"font-weight: bold\">}</span>\n",
       "    <span style=\"font-weight: bold\">}</span>\n",
       "<span style=\"font-weight: bold\">]</span>\n",
       "</pre>\n"
      ],
      "text/plain": [
       "\u001b[33m...\u001b[0mcalling tool:\n",
       "\n",
       "\u001b[1m[\u001b[0m\n",
       "    \u001b[1m{\u001b[0m\n",
       "        \u001b[32m'function'\u001b[0m: \u001b[1m{\u001b[0m\n",
       "            \u001b[32m'name'\u001b[0m: \u001b[32m'apply_thinking_model'\u001b[0m,\n",
       "            \u001b[32m'arguments'\u001b[0m: \u001b[1m{\u001b[0m\n",
       "                \u001b[32m'model'\u001b[0m: \u001b[32m'critical_thinking'\u001b[0m,\n",
       "                \u001b[32m'query'\u001b[0m: \u001b[32m\"Patel family who is planning a road trip from Toronto to Vancouver, covering a total \u001b[0m\n",
       "\u001b[32mdistance of 4,400 km. They want to divide the drive into equal parts over 5 days, with each day's drive being 15 km\u001b[0m\n",
       "\u001b[32mlonger than the previous day. If they drive x km on the first day, what is the value of x that will allow them to \u001b[0m\n",
       "\u001b[32mcomplete the trip in 5 days?\"\u001b[0m\n",
       "            \u001b[1m}\u001b[0m\n",
       "        \u001b[1m}\u001b[0m\n",
       "    \u001b[1m}\u001b[0m\n",
       "\u001b[1m]\u001b[0m\n"
      ]
     },
     "metadata": {},
     "output_type": "display_data"
    },
    {
     "name": "stdout",
     "output_type": "stream",
     "text": [
      "...use thinking_model(critical_thinking,Patel family who is planning a road trip from Toronto to Vancouver, covering a total distance of 4,400 km. They want to divide the drive into equal parts over 5 days, with each day's drive being 15 km longer than the previous day. If they drive x km on the first day, what is the value of x that will allow them to complete the trip in 5 days?)\n",
      "\n"
     ]
    },
    {
     "data": {
      "text/html": [
       "<pre style=\"white-space:pre;overflow-x:auto;line-height:normal;font-family:Menlo,'DejaVu Sans Mono',consolas,'Courier New',monospace\">***after tool call response***\n",
       "</pre>\n"
      ],
      "text/plain": [
       "***after tool call response***\n"
      ]
     },
     "metadata": {},
     "output_type": "display_data"
    },
    {
     "name": "stdout",
     "output_type": "stream",
     "text": [
      "==============================\n",
      "<critical-thinking>\n",
      "1. Analyze the problem:\n",
      "   - The Patel family needs to cover a total distance of 4,400 km in 5 days.\n",
      "   - Each day's drive must be 15 km longer than the previous day.\n",
      "\n",
      "2. Outline the approach:\n",
      "   - Calculate the number of kilometers driven each day.\n",
      "   - Ensure that the total distance covered over 5 days equals 4,400 km.\n",
      "   - Use algebra to represent the unknown value of x and solve for it.\n",
      "\n",
      "3. Chain of Thought:\n",
      "\n",
      "Step 1: Let's define the distance driven on each day as follows:\n",
      "- Day 1: x km\n",
      "- Day 2: x + 15 km\n",
      "- Day 3: x + 30 km\n",
      "- Day 4: x + 45 km\n",
      "- Day 5: x + 60 km\n",
      "\n",
      "Step 2: The total distance covered over the 5 days should equal 4,400 km. So, we can set up an equation:\n",
      "\n",
      "x + (x + 15) + (x + 30) + (x + 45) + (x + 60) = 4400\n",
      "\n",
      "Combine like terms and simplify the equation.\n",
      "\n",
      "4. Solve for x:\n",
      "   - 5x + 150 = 4400\n",
      "   - 5x = 4400 - 150\n",
      "   - 5x = 4250\n",
      "   - x = 4250 / 5\n",
      "   - x = 850\n",
      "\n",
      "Step 5: Now that we have found the value of x, let's reflect on our process.\n",
      "\n",
      "<reflection>\n",
      "a. Define the Problem Clearly:\n",
      "   - Identify the core issue or problem to address.\n",
      "   - Break down complex problems into simpler components.\n",
      "b. Gather Relevant Information:\n",
      "   - Collect data and facts from reliable sources (in this case, we knew the total distance and number of days).\n",
      "   - Consider both quantitative (numeric) and qualitative (descriptive) information.\n",
      "c. Analyze Information Systematically:\n",
      "   - Apply logical reasoning to the collected information.\n",
      "   - Use analytical tools such as algebra to represent unknown values and solve equations.\n",
      "d. Evaluate Arguments and Evidence:\n",
      "   - Assess the credibility of sources providing data and arguments.\n",
      "   - Identify any biases in our own thinking or in the presented information.\n",
      "e. Consider Multiple Perspectives:\n",
      "   - Examine the issue from different viewpoints to gain a comprehensive understanding.\n",
      "   - Seek input from diverse stakeholders and experts (in this case, we considered the perspective of the Patel family planning their road trip).\n",
      "f. Generate Alternative Solutions:\n",
      "   - Brainstorm multiple possible solutions or courses of action.\n",
      "   - Combine and refine ideas through iterative improvement.\n",
      "g. Predict Outcomes and Impacts:\n",
      "   - Use scenario planning to predict potential outcomes for each solution.\n",
      "   - Consider the short-term and long-term implications of different decisions (in this case, we considered how different values of x would affect the total distance covered over 5 days).\n",
      "h. Make a Decision Based on Evidence:\n",
      "   - Evaluate alternatives against clear criteria and objectives.\n",
      "   - Choose the best option based on logical reasoning and available evidence (in this case, we chose the value of x that would allow the Patel family to complete their trip in 5 days).\n",
      "i. Implement the Chosen Solution:\n",
      "   - Develop an actionable plan for implementation.\n",
      "   - Ensure that resources are allocated effectively to support the chosen solution (not applicable in this scenario as it's a theoretical problem-solving exercise).\n",
      "j. Monitor and Review Outcomes:\n",
      "   - Track progress against goals and objectives.\n",
      "   - Adjust strategies as needed based on feedback and new information (this would be relevant if we were actually implementing our solution).\n",
      "k. Reflect on the Process:\n",
      "   - Evaluate what was learned from the process.\n",
      "   - Identify areas for improvement in future critical thinking processes.\n",
      "\n",
      "We have found that x = 850, which allows the Patel family to complete their road trip from Toronto to Vancouver over 5 days, with each day's drive being 15 km longer than the previous day.\n",
      "\n",
      "<reflection>\n",
      "a. Review problems systematically and make informed decisions based on a thorough analysis of available data and perspectives.\n",
      "b. Review your reasoning process.\n",
      "c. Identify any biases or potential errors in our initial assumptions (e.g., assuming an equal number of kilometers driven each day, or considering the potential impact of road closures or traffic conditions).\n",
      "d. Revisit and update decisions as new information becomes available or circumstances change (for example, if we discovered that one of the days would be affected by inclement weather, we might need to adjust our plan accordingly).\n",
      "\n",
      "<reflection>\n",
      "</critical-thinking>\n",
      "\n",
      "Based on this detailed analysis and problem-solving process, we conclude that x = 850.\n",
      "\n",
      "<output>\n",
      "The value of x that will allow the Patel family to complete their road trip from Toronto to Vancouver in 5 days is 850 km.\n",
      "</output>\n",
      "========Final Answer=========\n",
      "\n",
      "The value of x that will allow the Patel family to complete their road trip from Toronto to Vancouver in 5 days is 850 km.\n",
      "\n"
     ]
    }
   ],
   "source": [
    "##\n",
    "## Use: Critical Thinking\n",
    "##\n",
    "query = \"\"\"\n",
    "apply critical_thinking thinking for query:\n",
    "Patel family who is planning a road trip from Toronto to Vancouver, covering a total distance of 4,400 km. They want to divide the drive into equal parts over 5 days, with each day's drive being 15 km longer than the previous day. If they drive x km on the first day, what is the value of x that will allow them to complete the trip in 5 days?]\n",
    "\"\"\"\n",
    "\n",
    "thinker = OllamaIntuitiveThinker(llm_url=ollama_url)\n",
    "response = await thinker.llmchat(question=query,\n",
    "                           llm_model=ollama_model,\n",
    "                           mental_model=None)\n",
    "print(10*\"===\")\n",
    "print(response)\n",
    "\n",
    "final_answer = thinker.parse_output(response)\n",
    "print(\"========Final Answer=========\")\n",
    "print(final_answer)"
   ]
  },
  {
   "cell_type": "code",
   "execution_count": null,
   "id": "ee517bf6-97a1-4f8a-bfe5-674b3504a3a5",
   "metadata": {},
   "outputs": [],
   "source": []
  },
  {
   "cell_type": "markdown",
   "id": "61a409b9-586a-4825-9f16-e5f7d1187ef4",
   "metadata": {},
   "source": [
    "### Llama-Thinker"
   ]
  },
  {
   "cell_type": "code",
   "execution_count": 21,
   "id": "e2ae43ed-356b-46a0-8d3b-3ff184f954d9",
   "metadata": {},
   "outputs": [
    {
     "name": "stdout",
     "output_type": "stream",
     "text": [
      "--------------------------------------------------\n",
      "http://192.168.0.26:11434/v1/ ollama mychen76/llama3.1-intuitive-thinker:q5\n",
      "--------------------------------------------------\n"
     ]
    }
   ],
   "source": [
    "### Llama-Thinker\n",
    "\n",
    "from intuitive_thinker.llama_thinker import LlamaIntuitiveThinker\n",
    "from intuitive_thinker.mental_model import MentalModel\n",
    "import os\n",
    "from dotenv import load_dotenv\n",
    "load_dotenv()\n",
    "\n",
    "### Environment Config\n",
    "openai_url = os.getenv(\"OPENAI_URL\")\n",
    "openai_api_key = os.getenv(\"OPENAI_KEY\")\n",
    "openai_model = os.getenv(\"OPENAI_MODEL\")\n",
    "\n",
    "print(10*\"-----\")\n",
    "print(openai_url, openai_api_key, openai_model)\n",
    "print(10*\"-----\")"
   ]
  },
  {
   "cell_type": "code",
   "execution_count": 23,
   "id": "ea23e568-9dcf-40c8-ae48-7b037b9e648a",
   "metadata": {},
   "outputs": [
    {
     "name": "stdout",
     "output_type": "stream",
     "text": [
      "...use thinking_model(chain_of_thoughts,count number of letter r in word strawberry?)\n",
      "\n",
      "======Full Response=========\n",
      "<thinking>\n",
      "\n",
      "To calculate the number of letter R's within word “strawberry”.\n",
      "\n",
      "1. Step through how we'll determine quantity.\n",
      "The plan includes breaking down and reading term.\n",
      "Looking by examining spelling and identify\n",
      "any duplicates in process thus to know our answer in conclusion\n",
      "\n",
      "There are seven items in what I've outlined:\n",
      "      -step-by-anagram-of-and-name,\n",
      "      -exam break and read word as individual letters out so spelling be soundly understood.\n",
      "       Breaks then look for duplicate r.\n",
      "      Count R.\n",
      "      Identify number of\n",
      "   Duplicates if one found and report on finding\n",
      "\n",
      "\n",
      "2. Consider step to check if each might have errors or is the way the problem might better still approach.\n",
      "   So step need reflection.\n",
      "\n",
      "What about reading spelling forward instead going left word? Which letter comes from each spot.\n",
      "\n",
      "\n",
      "\n",
      "       Checking in case there might an answer easier via spelling read that left \n",
      "       start again beginning forward with this\n",
      "\n",
      "\n",
      "Reflection is closed as thought.\n",
      "\n",
      "\n",
      "Let myself ask the question now is word breaking leftward spelling correct to count amount spelled by 'r?' Or did my other\n",
      "   idea get there by a new insight? The better practice will get at the problem if and so one checks idea against \n",
      "   other possibilities in thinking part first to see which is stronger idea.\n",
      "\n",
      "\n",
      "\n",
      "On reviewing earlier work done seems it is step which have errors. If going left begin each time we count word 's-r-b-g-' as 'str'.\n",
      "Now then count: r\n",
      "\n",
      "\n",
      "This plan may solve question, and here below now answer by method of above. By making the correction at a single step.\n",
      "Str a W  ... R    e    Ry\n",
      "\n",
      "\n",
      "</thinking>\n",
      "\n",
      "\n",
      "<ouput>\n",
      "\n",
      "Step by step count is done, result of word ' strawberries' counts number of duplicates (letter  that was 'r')\n",
      "is...  three \"R\" exists in \"strawberry\". Thus  your final number of letter ' R ' spelled.\n",
      "</output>\"\n",
      "======Final Answer=========\n",
      "<thinking>\n",
      "\n",
      "To calculate the number of letter R's within word “strawberry”.\n",
      "\n",
      "1. Step through how we'll determine quantity.\n",
      "The plan includes breaking down and reading term.\n",
      "Looking by examining spelling and identify\n",
      "any duplicates in process thus to know our answer in conclusion\n",
      "\n",
      "There are seven items in what I've outlined:\n",
      "      -step-by-anagram-of-and-name,\n",
      "      -exam break and read word as individual letters out so spelling be soundly understood.\n",
      "       Breaks then look for duplicate r.\n",
      "      Count R.\n",
      "      Identify number of\n",
      "   Duplicates if one found and report on finding\n",
      "\n",
      "\n",
      "2. Consider step to check if each might have errors or is the way the problem might better still approach.\n",
      "   So step need reflection.\n",
      "\n",
      "What about reading spelling forward instead going left word? Which letter comes from each spot.\n",
      "\n",
      "\n",
      "\n",
      "       Checking in case there might an answer easier via spelling read that left \n",
      "       start again beginning forward with this\n",
      "\n",
      "\n",
      "Reflection is closed as thought.\n",
      "\n",
      "\n",
      "Let myself ask the question now is word breaking leftward spelling correct to count amount spelled by 'r?' Or did my other\n",
      "   idea get there by a new insight? The better practice will get at the problem if and so one checks idea against \n",
      "   other possibilities in thinking part first to see which is stronger idea.\n",
      "\n",
      "\n",
      "\n",
      "On reviewing earlier work done seems it is step which have errors. If going left begin each time we count word 's-r-b-g-' as 'str'.\n",
      "Now then count: r\n",
      "\n",
      "\n",
      "This plan may solve question, and here below now answer by method of above. By making the correction at a single step.\n",
      "Str a W  ... R    e    Ry\n",
      "\n",
      "\n",
      "\n",
      "\n",
      "\n",
      "<ouput>\n",
      "\n",
      "Step by step count is done, result of word ' strawberries' counts number of duplicates (letter  that was 'r')\n",
      "is...  three \"R\" exists in \"strawberry\". Thus  your final number of letter ' R ' spelled.\n",
      "\"\n"
     ]
    }
   ],
   "source": [
    "query = \"count number of letter r in word strawberry?\"\n",
    "\n",
    "openthinker = LlamaIntuitiveThinker(llm_url=openai_url, llm_api_key=openai_api_key)\n",
    "response = openthinker.llmchat(question=query, llm_model=openai_model, \n",
    "                               use_streaming=False,\n",
    "                               mental_model=MentalModel.CHAIN_OF_THOUGHTS,\n",
    "                              options={\"temperature\":1.0,\"max_tokens\":1024})\n",
    "## {\"temperature\":1.5,\"max_tokens\":512}\n",
    "print(\"======Full Response=========\")\n",
    "print(response)\n",
    "print(\"======Final Answer=========\")\n",
    "answer= openthinker.parse_output(response)\n",
    "print(answer)"
   ]
  },
  {
   "cell_type": "code",
   "execution_count": null,
   "id": "19289e4e-1ff9-4929-a92e-1ee05993d6c2",
   "metadata": {},
   "outputs": [],
   "source": []
  }
 ],
 "metadata": {
  "kernelspec": {
   "display_name": "Python 3 (ipykernel)",
   "language": "python",
   "name": "python3"
  },
  "language_info": {
   "codemirror_mode": {
    "name": "ipython",
    "version": 3
   },
   "file_extension": ".py",
   "mimetype": "text/x-python",
   "name": "python",
   "nbconvert_exporter": "python",
   "pygments_lexer": "ipython3",
   "version": "3.12.2"
  }
 },
 "nbformat": 4,
 "nbformat_minor": 5
}
